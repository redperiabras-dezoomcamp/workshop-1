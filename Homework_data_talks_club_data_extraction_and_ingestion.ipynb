{
  "nbformat": 4,
  "nbformat_minor": 0,
  "metadata": {
    "colab": {
      "provenance": [],
      "include_colab_link": true
    },
    "kernelspec": {
      "name": "python3",
      "display_name": "Python 3"
    },
    "language_info": {
      "name": "python"
    }
  },
  "cells": [
    {
      "cell_type": "markdown",
      "metadata": {
        "id": "view-in-github",
        "colab_type": "text"
      },
      "source": [
        "<a href=\"https://colab.research.google.com/github/redperiabras-dezoomcamp/workshop-1/blob/main/Homework_data_talks_club_data_extraction_and_ingestion.ipynb\" target=\"_parent\"><img src=\"https://colab.research.google.com/assets/colab-badge.svg\" alt=\"Open In Colab\"/></a>"
      ]
    },
    {
      "cell_type": "markdown",
      "source": [
        "# **Homework**: Data talks club data engineering zoomcamp Data loading workshop\n",
        "\n",
        "Hello folks, let's practice what we learned - Loading data with the best practices of data engineering.\n",
        "\n",
        "Here are the exercises we will do\n",
        "\n",
        "\n"
      ],
      "metadata": {
        "id": "mrTFv5nPClXh"
      }
    },
    {
      "cell_type": "markdown",
      "source": [
        "# 1. Use a generator\n",
        "\n",
        "Remember the concept of generator? Let's practice using them to futher our understanding of how they work.\n",
        "\n",
        "Let's define a generator and then run it as practice.\n",
        "\n",
        "**Answer the following questions:**\n",
        "\n",
        "- **Question 1: What is the sum of the outputs of the generator for limit = 5?**\n",
        "- **Question 2: What is the 13th number yielded**\n",
        "\n",
        "I suggest practicing these questions without GPT as the purpose is to further your learning."
      ],
      "metadata": {
        "id": "wLF4iXf-NR7t"
      }
    },
    {
      "cell_type": "code",
      "source": [
        "def square_root_generator(limit):\n",
        "    n = 1\n",
        "    while n <= limit:\n",
        "        yield n ** 0.5\n",
        "        n += 1\n",
        "\n",
        "# Example usage:\n",
        "limit = 13\n",
        "generator = square_root_generator(limit)"
      ],
      "metadata": {
        "id": "wLng-bDJN4jf"
      },
      "execution_count": 1,
      "outputs": []
    },
    {
      "cell_type": "code",
      "source": [
        "# Answer 1\n",
        "\n",
        "limit = 5\n",
        "generator = square_root_generator(limit)\n",
        "sum_sqrt = sum([i for i in generator])\n",
        "print(sum_sqrt)"
      ],
      "metadata": {
        "id": "LUn4clHDRSxi",
        "outputId": "6b3f817c-621e-4793-bc41-59ac358175da",
        "colab": {
          "base_uri": "https://localhost:8080/"
        }
      },
      "execution_count": 4,
      "outputs": [
        {
          "output_type": "stream",
          "name": "stdout",
          "text": [
            "8.382332347441762\n"
          ]
        }
      ]
    },
    {
      "cell_type": "code",
      "source": [
        "# Answer 2\n",
        "\n",
        "limit = 13\n",
        "generator = square_root_generator(limit)\n",
        "sqrts = [i for i in generator]\n",
        "print(sqrts[limit -1])"
      ],
      "metadata": {
        "id": "wQohMjNJMLkZ",
        "outputId": "5e125d7a-f033-4a8b-fbbb-b588cf9852a1",
        "colab": {
          "base_uri": "https://localhost:8080/"
        }
      },
      "execution_count": 6,
      "outputs": [
        {
          "output_type": "stream",
          "name": "stdout",
          "text": [
            "3.605551275463989\n"
          ]
        }
      ]
    },
    {
      "cell_type": "markdown",
      "source": [
        "`"
      ],
      "metadata": {
        "id": "xbe3q55zN43j"
      }
    },
    {
      "cell_type": "markdown",
      "source": [
        "# 2. Append a generator to a table with existing data\n",
        "\n",
        "\n",
        "Below you have 2 generators. You will be tasked to load them to duckdb and answer some questions from the data\n",
        "\n",
        "1. Load the first generator and calculate the sum of ages of all people. Make sure to only load it once.\n",
        "2. Append the second generator to the same table as the first.\n",
        "3. **After correctly appending the data, calculate the sum of all ages of people.**\n",
        "\n",
        "\n"
      ],
      "metadata": {
        "id": "vjWhILzGJMpK"
      }
    },
    {
      "cell_type": "code",
      "source": [
        "#Install the dependencies\n",
        "%%capture\n",
        "!pip install dlt[duckdb]"
      ],
      "metadata": {
        "id": "hP9d-Ks2NAZA"
      },
      "execution_count": 8,
      "outputs": []
    },
    {
      "cell_type": "code",
      "source": [
        "import dlt"
      ],
      "metadata": {
        "id": "FvsIZAcLNCFW"
      },
      "execution_count": 18,
      "outputs": []
    },
    {
      "cell_type": "code",
      "execution_count": 22,
      "metadata": {
        "id": "2MoaQcdLBEk6"
      },
      "outputs": [],
      "source": [
        "@dlt.resource(table_name='people', write_disposition='replace')\n",
        "def people_1():\n",
        "    for i in range(1, 6):\n",
        "        yield {\"ID\": i, \"Name\": f\"Person_{i}\", \"Age\": 25 + i, \"City\": \"City_A\"}\n",
        "\n",
        "@dlt.resource(table_name='people', write_disposition='append')\n",
        "def people_2():\n",
        "    for i in range(3, 9):\n",
        "        yield {\"ID\": i, \"Name\": f\"Person_{i}\", \"Age\": 30 + i, \"City\": \"City_B\", \"Occupation\": f\"Job_{i}\"}\n"
      ]
    },
    {
      "cell_type": "code",
      "source": [
        "pipeline = dlt.pipeline(\n",
        "    pipeline_name='people_pipeline',\n",
        "    destination='duckdb',\n",
        "    dataset_name='people_dataset',\n",
        "    progress=dlt.progress.tqdm(colour=\"yellow\")\n",
        ")"
      ],
      "metadata": {
        "id": "DjyZ3cNNSBcA",
        "outputId": "02506f6f-67c6-4b1c-8c94-bc031400fe6f",
        "colab": {
          "base_uri": "https://localhost:8080/",
          "height": 141
        }
      },
      "execution_count": 28,
      "outputs": [
        {
          "output_type": "error",
          "ename": "SyntaxError",
          "evalue": "incomplete input (<ipython-input-28-a5cb0683266d>, line 5)",
          "traceback": [
            "\u001b[0;36m  File \u001b[0;32m\"<ipython-input-28-a5cb0683266d>\"\u001b[0;36m, line \u001b[0;32m5\u001b[0m\n\u001b[0;31m    progress='log'\u001b[0m\n\u001b[0m                  ^\u001b[0m\n\u001b[0;31mSyntaxError\u001b[0m\u001b[0;31m:\u001b[0m incomplete input\n"
          ]
        }
      ]
    },
    {
      "cell_type": "code",
      "source": [
        "info = pipeline.run(people_1)\n",
        "info = pipeline.run(people_2)"
      ],
      "metadata": {
        "id": "vyJXk7F2SJbh",
        "outputId": "f9cc84df-4207-4adb-9548-d18cafbd3405",
        "colab": {
          "base_uri": "https://localhost:8080/"
        }
      },
      "execution_count": 30,
      "outputs": [
        {
          "output_type": "stream",
          "name": "stderr",
          "text": [
            "Extract people: Resources:   0%|\u001b[33m          \u001b[0m| 0/1 [00:00<?, ?it/s]\n",
            "people: 0it [00:00, ?it/s]\u001b[A\n",
            "                                                                        \n",
            "people: 5it [00:00, 489.12it/s]\u001b[A\n",
            "Normalize people in 1707790728.947694: Files:   0%|\u001b[33m          \u001b[0m| 0/1 [00:00<?, ?it/s]\n",
            "Items: 0it [00:00, ?it/s]\u001b[A\n",
            "Normalize people in 1707790728.947694: Files: 100%|\u001b[33m██████████\u001b[0m| 1/1 [00:00<00:00,  2.92it/s]\n",
            "                                                                                           \n",
            "Items: 5it [00:00, 15.04it/s]\u001b[A\n",
            "Extract people: Resources:   0%|\u001b[33m          \u001b[0m| 0/1 [00:00<?, ?it/s]\n",
            "people: 0it [00:00, ?it/s]\u001b[A\n",
            "                                                                        \n",
            "people: 6it [00:00, 683.58it/s]\u001b[A\n",
            "Normalize people in 1707790729.8197496: Files:   0%|\u001b[33m          \u001b[0m| 0/1 [00:00<?, ?it/s]\n",
            "Items: 0it [00:00, ?it/s]\u001b[A\n",
            "Normalize people in 1707790729.8197496: Files: 100%|\u001b[33m██████████\u001b[0m| 1/1 [00:00<00:00,  2.90it/s]\n",
            "                                                                                            \n",
            "Items: 6it [00:00, 17.76it/s]\u001b[A\n"
          ]
        }
      ]
    },
    {
      "cell_type": "code",
      "source": [
        "with pipeline."
      ],
      "metadata": {
        "id": "8mQwPqzkPT5Z"
      },
      "execution_count": null,
      "outputs": []
    },
    {
      "cell_type": "markdown",
      "source": [],
      "metadata": {
        "id": "vtdTIm4fvQCN"
      }
    },
    {
      "cell_type": "markdown",
      "source": [
        "# 3. Merge a generator\n",
        "\n",
        "Re-use the generators from Exercise 2.\n",
        "\n",
        "A table's primary key needs to be created from the start, so load your data to a new table with primary key ID.\n",
        "\n",
        "Load your first generator first, and then load the second one with merge. Since they have overlapping IDs, some of the records from the first load should be replaced by the ones from the second load.\n",
        "\n",
        "After loading, you should have a total of 8 records, and ID 3 should have age 33.\n",
        "\n",
        "Question: **Calculate the sum of ages of all the people loaded as described above.**\n"
      ],
      "metadata": {
        "id": "pY4cFAWOSwN1"
      }
    },
    {
      "cell_type": "markdown",
      "source": [
        "# Solution: First make sure that the following modules are installed:"
      ],
      "metadata": {
        "id": "kKB2GTB9oVjr"
      }
    },
    {
      "cell_type": "code",
      "source": [
        "#Install the dependencies\n",
        "%%capture\n",
        "!pip install dlt[duckdb]"
      ],
      "metadata": {
        "id": "xTVvtyqrfVNq"
      },
      "execution_count": null,
      "outputs": []
    },
    {
      "cell_type": "code",
      "source": [
        "# to do: homework :)"
      ],
      "metadata": {
        "id": "a2-PRBAkGC2K"
      },
      "execution_count": null,
      "outputs": []
    },
    {
      "cell_type": "markdown",
      "source": [
        "Questions? difficulties? We are here to help.\n",
        "- DTC data engineering course channel: https://datatalks-club.slack.com/archives/C01FABYF2RG\n",
        "- dlt's DTC cohort channel: https://dlthub-community.slack.com/archives/C06GAEX2VNX"
      ],
      "metadata": {
        "id": "PoTJu4kbGG0z"
      }
    }
  ]
}